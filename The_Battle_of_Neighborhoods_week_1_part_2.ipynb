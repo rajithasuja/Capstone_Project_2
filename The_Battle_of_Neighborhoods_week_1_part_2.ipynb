{
  "nbformat": 4,
  "nbformat_minor": 0,
  "metadata": {
    "colab": {
      "name": "The Battle of Neighborhoods-week 1 part 2",
      "provenance": [],
      "authorship_tag": "ABX9TyNOWAQGlsnlj4URgx1lvshg",
      "include_colab_link": true
    },
    "kernelspec": {
      "name": "python3",
      "display_name": "Python 3"
    }
  },
  "cells": [
    {
      "cell_type": "markdown",
      "metadata": {
        "id": "view-in-github",
        "colab_type": "text"
      },
      "source": [
        "<a href=\"https://colab.research.google.com/github/rajithasuja/Capstone_Project_2/blob/main/The_Battle_of_Neighborhoods_week_1_part_2.ipynb\" target=\"_parent\"><img src=\"https://colab.research.google.com/assets/colab-badge.svg\" alt=\"Open In Colab\"/></a>"
      ]
    },
    {
      "cell_type": "markdown",
      "metadata": {
        "id": "Hw2s9qAdts_N"
      },
      "source": [
        "# Capstone Project - The Battle of Neighborhood (Week 1)"
      ]
    },
    {
      "cell_type": "code",
      "metadata": {
        "id": "qfPYx9cqVkLc"
      },
      "source": [
        "# importing all required libraries\r\n",
        "\r\n",
        "import numpy as np\r\n",
        "import pandas as pd\r\n",
        "import time\r\n",
        "import requests\r\n",
        "import folium\r\n",
        "import json\r\n",
        "from geopy.geocoders import Nominatim"
      ],
      "execution_count": 1,
      "outputs": []
    },
    {
      "cell_type": "markdown",
      "metadata": {
        "id": "V-NqWz0RyV-R"
      },
      "source": [
        "## **1. Introduction Section**"
      ]
    },
    {
      "cell_type": "markdown",
      "metadata": {
        "id": "orPzsIXEyuoS"
      },
      "source": [
        "### **Description of the Problem and Background**\r\n",
        "\r\n",
        "#### **Scenario:**\r\n",
        "I am a Data Scientist residing in India. I currently live within walkable distance to grocery store, reputed educational institutes, malls and entertainment zones. I have received an offer letter for MS in University of Washington, USA which offers me a good scholarship. The key question is: How can I find a similar location to mine at Wahington. Certainly, I could use available realestate apps and google but the idea is to make a comparision and evaluation of the rental options at Seattle, Washington.The apartment at Seattle must meet the following demands:\r\n",
        "\r\n",
        "\r\n",
        "\r\n",
        "*   apartment must be 1 or 2 BHK\r\n",
        "*   Desired location must be close to my university\r\n",
        "* price shouldn't exceed $6,000\r\n",
        "* desirable to have venues such as grocery store, coffee shops, Asian restaurants and food shops.\r\n",
        "\r\n",
        "##### **Business Problem:**\r\n",
        "The challenge is to find a suitable house that meets the above mentioned demands.\r\n",
        "\r\n",
        "##### **Interested Audience:**\r\n",
        "I believe this is a relevant challenge with valid questions. This is very helpful, especially for students who apply abroad or masters and for better jobs.\r\n"
      ]
    },
    {
      "cell_type": "markdown",
      "metadata": {
        "id": "euTjLRKsRE5m"
      },
      "source": [
        "# **2. Data Section**"
      ]
    },
    {
      "cell_type": "markdown",
      "metadata": {
        "id": "ZlWM0eh6RFti"
      },
      "source": [
        "#### **Description of the data and its sources that will be used to solve the problem**\r\n",
        "##### **Description of the data:**\r\n",
        "The following data is requires to answer the issues of the problem:\r\n",
        "\r\n",
        "* List of Boroughs and Neigborhoods in Seattle along with their latitude and longitude\r\n",
        "* List of apartments close to the college in the area which meets my demands.\r\n",
        "* Venues for shopping malls and food joints.\r\n",
        "\r\n",
        "#### **How the data will be use to solve the problem**\r\n",
        "The data will be used as follows:\r\n",
        "* Use Foursquare and geopy data to map top 10 venues for all Manhattan neighborhoods and clustered in groups ( as per Course LAB)\r\n",
        "* Use foursquare and geopy data to map the location of subway metro stations , separately and on top of the above clustered map in order to be able to identify the venues and ammenities near each metro station, or explore each subway location separately\r\n",
        "*Use Foursquare and geopy data to map the location of rental places, in some form, linked to the subway locations.\r\n",
        "* Create a map that depicts, for instance, the average rental price per square ft, around a radious of 1.0 mile (1.6 km) around each subway station - or a similar metrics. I will be able to quickly point to the popups to know the relative price per subway area.\r\n",
        "* Addresses from rental locations will be converted to geodata( lat, long) using Geopy-distance and Nominatim.\r\n",
        "* Data will be searched in open data sources if available, from real estate sites if open to reading, libraries or other government agencies such as Metro New York MTA, etc.\r\n"
      ]
    },
    {
      "cell_type": "markdown",
      "metadata": {
        "id": "I4Nm1qw8T-W_"
      },
      "source": [
        "The procesing of these DATA will allow to answer the key questions to make a decision:\r\n",
        "\r\n",
        "* What is the cost of rent (per square ft) around a mile radius from the university?\r\n",
        "*What is the area of Seattle with best rental pricing that meets criteria established?\r\n",
        "*What is the distance from university and the tentative future home?\r\n",
        "*What are the venues of the two best places to live? How the prices compare?\r\n",
        "*How venues distribute among Seattle neighborhoods and around metro stations?\r\n",
        "*Are there tradeoffs between size and price and location?\r\n",
        "*Any other interesting statistical data findings of the real estate and overall data."
      ]
    },
    {
      "cell_type": "code",
      "metadata": {
        "colab": {
          "base_uri": "https://localhost:8080/"
        },
        "id": "wTtELpL8ytbx",
        "outputId": "d5ca6376-ba13-4177-d2a1-2024d8fdd638"
      },
      "source": [
        "address = 'Gachibowli, India'\r\n",
        "geolocator = Nominatim()\r\n",
        "location = geolocator.geocode(address)\r\n",
        "lat = location.latitude\r\n",
        "long = location.longitude\r\n",
        "print('The geograpical coordinate of Indian home are {}, {}.'.format(lat, long))"
      ],
      "execution_count": 5,
      "outputs": [
        {
          "output_type": "stream",
          "text": [
            "/usr/local/lib/python3.6/dist-packages/geopy/geocoders/osm.py:143: UserWarning: Using Nominatim with the default \"geopy/1.17.0\" `user_agent` is strongly discouraged, as it violates Nominatim's ToS https://operations.osmfoundation.org/policies/nominatim/ and may possibly cause 403 and 429 HTTP errors. Please specify a custom `user_agent` with `Nominatim(user_agent=\"my-application\")` or by overriding the default `user_agent`: `geopy.geocoders.options.default_user_agent = \"my-application\"`. In geopy 2.0 this will become an exception.\n",
            "  UserWarning\n"
          ],
          "name": "stderr"
        },
        {
          "output_type": "stream",
          "text": [
            "The geograpical coordinate of Indian home are 17.4436222, 78.3519638.\n"
          ],
          "name": "stdout"
        }
      ]
    },
    {
      "cell_type": "code",
      "metadata": {
        "id": "yvG5RUmvxr5R"
      },
      "source": [
        "neighborhood_latitude = 17.4436222\r\n",
        "neighborhood_longitude = 78.3519638"
      ],
      "execution_count": 6,
      "outputs": []
    },
    {
      "cell_type": "code",
      "metadata": {
        "colab": {
          "base_uri": "https://localhost:8080/",
          "height": 69
        },
        "id": "B4IbS1aTW_oC",
        "outputId": "e61de0d3-e990-48da-e8d8-e12381cea61c"
      },
      "source": [
        "CLIENT_ID = 'UBWKQTDZTXRZWTCG01V4AWC5AAQNUIAXBXREJY1LNWPXPRKD'\r\n",
        "CLIENT_SECRET = 'ZEQP4WMJUFE05PNGBR5JHOPICN4Z2DPEMJPNFGCJZ0HR2TXH'\r\n",
        "VERSION = '20210105'\r\n",
        "\r\n",
        "LIMIT = 100 # limit of number of venues returned by Foursquare API\r\n",
        "radius = 500 # define radius\r\n",
        "\r\n",
        "# create URL\r\n",
        "url = 'https://api.foursquare.com/v2/venues/explore?&client_id={}&client_secret={}&v={}&ll={},{}&radius={}&limit={}'.format(\r\n",
        "    CLIENT_ID, \r\n",
        "    CLIENT_SECRET, \r\n",
        "    VERSION, \r\n",
        "    neighborhood_latitude, \r\n",
        "    neighborhood_longitude, \r\n",
        "    radius, \r\n",
        "    LIMIT)\r\n",
        "url"
      ],
      "execution_count": 15,
      "outputs": [
        {
          "output_type": "execute_result",
          "data": {
            "application/vnd.google.colaboratory.intrinsic+json": {
              "type": "string"
            },
            "text/plain": [
              "'https://api.foursquare.com/v2/venues/explore?&client_id=UBWKQTDZTXRZWTCG01V4AWC5AAQNUIAXBXREJY1LNWPXPRKD&client_secret=ZEQP4WMJUFE05PNGBR5JHOPICN4Z2DPEMJPNFGCJZ0HR2TXH&v=20210105&ll=17.4436222,78.3519638&radius=500&limit=100'"
            ]
          },
          "metadata": {
            "tags": []
          },
          "execution_count": 15
        }
      ]
    },
    {
      "cell_type": "code",
      "metadata": {
        "id": "iEd62V2xXKTG"
      },
      "source": [
        "results = requests.get(url).json()"
      ],
      "execution_count": 24,
      "outputs": []
    },
    {
      "cell_type": "code",
      "metadata": {
        "id": "u7pLIOV-Xp6H"
      },
      "source": [
        "def get_category_type(row):\r\n",
        "  try:\r\n",
        "    categories_list = row['categories']\r\n",
        "  except:\r\n",
        "    categories_list = row['venue.categories']\r\n",
        "  if len(categories_list)==0:\r\n",
        "    return None\r\n",
        "  else:\r\n",
        "    return categories_list[0]['name']"
      ],
      "execution_count": 25,
      "outputs": []
    },
    {
      "cell_type": "code",
      "metadata": {
        "colab": {
          "base_uri": "https://localhost:8080/"
        },
        "id": "zEwNyHn_aIcR",
        "outputId": "31aa99bd-b124-433c-f5c9-a0021b02df2d"
      },
      "source": [
        "results"
      ],
      "execution_count": 26,
      "outputs": [
        {
          "output_type": "execute_result",
          "data": {
            "text/plain": [
              "{'meta': {'code': 200, 'requestId': '5ff454baf6bc1c09d3ced1b5'},\n",
              " 'response': {'groups': [{'items': [{'reasons': {'count': 0,\n",
              "       'items': [{'reasonName': 'globalInteractionReason',\n",
              "         'summary': 'This spot is popular',\n",
              "         'type': 'general'}]},\n",
              "      'referralId': 'e-0-55733ab8498e4ce267bf22ab-0',\n",
              "      'venue': {'categories': [{'icon': {'prefix': 'https://ss3.4sqi.net/img/categories_v2/food/icecream_',\n",
              "          'suffix': '.png'},\n",
              "         'id': '4bf58dd8d48988d1c9941735',\n",
              "         'name': 'Ice Cream Shop',\n",
              "         'pluralName': 'Ice Cream Shops',\n",
              "         'primary': True,\n",
              "         'shortName': 'Ice Cream'}],\n",
              "       'id': '55733ab8498e4ce267bf22ab',\n",
              "       'location': {'cc': 'IN',\n",
              "        'country': 'India',\n",
              "        'distance': 379,\n",
              "        'formattedAddress': ['India'],\n",
              "        'labeledLatLngs': [{'label': 'display',\n",
              "          'lat': 17.44299847823975,\n",
              "          'lng': 78.35547531227311}],\n",
              "        'lat': 17.44299847823975,\n",
              "        'lng': 78.35547531227311},\n",
              "       'name': 'creamstone',\n",
              "       'photos': {'count': 0, 'groups': []}}},\n",
              "     {'reasons': {'count': 0,\n",
              "       'items': [{'reasonName': 'globalInteractionReason',\n",
              "         'summary': 'This spot is popular',\n",
              "         'type': 'general'}]},\n",
              "      'referralId': 'e-0-55d89744498eeca872db507b-1',\n",
              "      'venue': {'categories': [{'icon': {'prefix': 'https://ss3.4sqi.net/img/categories_v2/food/bakery_',\n",
              "          'suffix': '.png'},\n",
              "         'id': '4bf58dd8d48988d16a941735',\n",
              "         'name': 'Bakery',\n",
              "         'pluralName': 'Bakeries',\n",
              "         'primary': True,\n",
              "         'shortName': 'Bakery'}],\n",
              "       'id': '55d89744498eeca872db507b',\n",
              "       'location': {'address': 'Plot No 138 & 139, Gachibowli',\n",
              "        'cc': 'IN',\n",
              "        'city': 'Hyderabad',\n",
              "        'country': 'India',\n",
              "        'crossStreet': 'Vinayakanagar, Satyanarayana Arcade',\n",
              "        'distance': 366,\n",
              "        'formattedAddress': ['Plot No 138 & 139, Gachibowli (Vinayakanagar, Satyanarayana Arcade)',\n",
              "         'Hyderabad',\n",
              "         'Telangana',\n",
              "         'India'],\n",
              "        'labeledLatLngs': [{'label': 'display',\n",
              "          'lat': 17.442929658292005,\n",
              "          'lng': 78.3553356133576}],\n",
              "        'lat': 17.442929658292005,\n",
              "        'lng': 78.3553356133576,\n",
              "        'state': 'Telangana'},\n",
              "       'name': 'Karachi Bakery',\n",
              "       'photos': {'count': 0, 'groups': []}}},\n",
              "     {'reasons': {'count': 0,\n",
              "       'items': [{'reasonName': 'globalInteractionReason',\n",
              "         'summary': 'This spot is popular',\n",
              "         'type': 'general'}]},\n",
              "      'referralId': 'e-0-53f5ad6c498ef49996b19c97-2',\n",
              "      'venue': {'categories': [{'icon': {'prefix': 'https://ss3.4sqi.net/img/categories_v2/food/streetfood_',\n",
              "          'suffix': '.png'},\n",
              "         'id': '4bf58dd8d48988d1cb941735',\n",
              "         'name': 'Food Truck',\n",
              "         'pluralName': 'Food Trucks',\n",
              "         'primary': True,\n",
              "         'shortName': 'Food Truck'}],\n",
              "       'id': '53f5ad6c498ef49996b19c97',\n",
              "       'location': {'address': 'Before cafe Coffe Day',\n",
              "        'cc': 'IN',\n",
              "        'city': 'Hyderabad',\n",
              "        'country': 'India',\n",
              "        'crossStreet': 'Vinayak Nagar',\n",
              "        'distance': 442,\n",
              "        'formattedAddress': ['Before cafe Coffe Day (Vinayak Nagar)',\n",
              "         'Hyderabad 500030',\n",
              "         'Telangana',\n",
              "         'India'],\n",
              "        'labeledLatLngs': [{'label': 'display',\n",
              "          'lat': 17.442857931354,\n",
              "          'lng': 78.35605254980666}],\n",
              "        'lat': 17.442857931354,\n",
              "        'lng': 78.35605254980666,\n",
              "        'neighborhood': 'Service Lane ICICI BANK, HDFC BANK, Vodafone Store, Subway',\n",
              "        'postalCode': '500030',\n",
              "        'state': 'Telangana'},\n",
              "       'name': 'Chettinaduvilas',\n",
              "       'photos': {'count': 0, 'groups': []},\n",
              "       'venuePage': {'id': '93367210'}}},\n",
              "     {'reasons': {'count': 0,\n",
              "       'items': [{'reasonName': 'globalInteractionReason',\n",
              "         'summary': 'This spot is popular',\n",
              "         'type': 'general'}]},\n",
              "      'referralId': 'e-0-4d9331f4b189721e8bc5312a-3',\n",
              "      'venue': {'categories': [{'icon': {'prefix': 'https://ss3.4sqi.net/img/categories_v2/arts_entertainment/stadium_',\n",
              "          'suffix': '.png'},\n",
              "         'id': '4bf58dd8d48988d184941735',\n",
              "         'name': 'Stadium',\n",
              "         'pluralName': 'Stadiums',\n",
              "         'primary': True,\n",
              "         'shortName': 'Stadium'}],\n",
              "       'id': '4d9331f4b189721e8bc5312a',\n",
              "       'location': {'address': 'Gachibowli',\n",
              "        'cc': 'IN',\n",
              "        'city': 'Hyderabad',\n",
              "        'country': 'India',\n",
              "        'distance': 474,\n",
              "        'formattedAddress': ['Gachibowli',\n",
              "         'Hyderabad 500032',\n",
              "         'Telangana',\n",
              "         'India'],\n",
              "        'labeledLatLngs': [{'label': 'display',\n",
              "          'lat': 17.445982302900738,\n",
              "          'lng': 78.34824544139369}],\n",
              "        'lat': 17.445982302900738,\n",
              "        'lng': 78.34824544139369,\n",
              "        'postalCode': '500032',\n",
              "        'state': 'Telangana'},\n",
              "       'name': 'Gachibowli Stadium',\n",
              "       'photos': {'count': 0, 'groups': []}}},\n",
              "     {'reasons': {'count': 0,\n",
              "       'items': [{'reasonName': 'globalInteractionReason',\n",
              "         'summary': 'This spot is popular',\n",
              "         'type': 'general'}]},\n",
              "      'referralId': 'e-0-4e5a7669b993732579f70241-4',\n",
              "      'venue': {'categories': [{'icon': {'prefix': 'https://ss3.4sqi.net/img/categories_v2/food/cafe_',\n",
              "          'suffix': '.png'},\n",
              "         'id': '4bf58dd8d48988d16d941735',\n",
              "         'name': 'Café',\n",
              "         'pluralName': 'Cafés',\n",
              "         'primary': True,\n",
              "         'shortName': 'Café'}],\n",
              "       'id': '4e5a7669b993732579f70241',\n",
              "       'location': {'address': 'Gachibowli Central, Near IIIT Junction, Gachibowli',\n",
              "        'cc': 'IN',\n",
              "        'city': 'Hyderabad',\n",
              "        'country': 'India',\n",
              "        'crossStreet': 'Mumbai Road',\n",
              "        'distance': 411,\n",
              "        'formattedAddress': ['Gachibowli Central, Near IIIT Junction, Gachibowli (Mumbai Road)',\n",
              "         'Hyderabad 500032',\n",
              "         'Telangana',\n",
              "         'India'],\n",
              "        'labeledLatLngs': [{'label': 'display',\n",
              "          'lat': 17.44277058581477,\n",
              "          'lng': 78.3557370102195}],\n",
              "        'lat': 17.44277058581477,\n",
              "        'lng': 78.3557370102195,\n",
              "        'postalCode': '500032',\n",
              "        'state': 'Telangana'},\n",
              "       'name': 'Cafe Coffee Day',\n",
              "       'photos': {'count': 0, 'groups': []}}},\n",
              "     {'reasons': {'count': 0,\n",
              "       'items': [{'reasonName': 'globalInteractionReason',\n",
              "         'summary': 'This spot is popular',\n",
              "         'type': 'general'}]},\n",
              "      'referralId': 'e-0-5777eeea38fad73630a864f8-5',\n",
              "      'venue': {'categories': [{'icon': {'prefix': 'https://ss3.4sqi.net/img/categories_v2/food/italian_',\n",
              "          'suffix': '.png'},\n",
              "         'id': '4bf58dd8d48988d110941735',\n",
              "         'name': 'Italian Restaurant',\n",
              "         'pluralName': 'Italian Restaurants',\n",
              "         'primary': True,\n",
              "         'shortName': 'Italian'}],\n",
              "       'id': '5777eeea38fad73630a864f8',\n",
              "       'location': {'cc': 'IN',\n",
              "        'country': 'India',\n",
              "        'distance': 366,\n",
              "        'formattedAddress': ['India'],\n",
              "        'labeledLatLngs': [{'label': 'display',\n",
              "          'lat': 17.44284,\n",
              "          'lng': 78.35532}],\n",
              "        'lat': 17.44284,\n",
              "        'lng': 78.35532},\n",
              "       'name': 'Mustang terrace',\n",
              "       'photos': {'count': 0, 'groups': []}}},\n",
              "     {'reasons': {'count': 0,\n",
              "       'items': [{'reasonName': 'globalInteractionReason',\n",
              "         'summary': 'This spot is popular',\n",
              "         'type': 'general'}]},\n",
              "      'referralId': 'e-0-504eaecae4b0dde144d9f0e9-6',\n",
              "      'venue': {'categories': [{'icon': {'prefix': 'https://ss3.4sqi.net/img/categories_v2/travel/hotel_',\n",
              "          'suffix': '.png'},\n",
              "         'id': '4bf58dd8d48988d1fa931735',\n",
              "         'name': 'Hotel',\n",
              "         'pluralName': 'Hotels',\n",
              "         'primary': True,\n",
              "         'shortName': 'Hotel'}],\n",
              "       'id': '504eaecae4b0dde144d9f0e9',\n",
              "       'location': {'cc': 'IN',\n",
              "        'country': 'India',\n",
              "        'distance': 274,\n",
              "        'formattedAddress': ['India'],\n",
              "        'labeledLatLngs': [{'label': 'display',\n",
              "          'lat': 17.44303741846355,\n",
              "          'lng': 78.35447450566272}],\n",
              "        'lat': 17.44303741846355,\n",
              "        'lng': 78.35447450566272},\n",
              "       'name': 'Adithya inn',\n",
              "       'photos': {'count': 0, 'groups': []}}},\n",
              "     {'reasons': {'count': 0,\n",
              "       'items': [{'reasonName': 'globalInteractionReason',\n",
              "         'summary': 'This spot is popular',\n",
              "         'type': 'general'}]},\n",
              "      'referralId': 'e-0-599fd817a4236278d39bf8b5-7',\n",
              "      'venue': {'categories': [{'icon': {'prefix': 'https://ss3.4sqi.net/img/categories_v2/food/italian_',\n",
              "          'suffix': '.png'},\n",
              "         'id': '4bf58dd8d48988d110941735',\n",
              "         'name': 'Italian Restaurant',\n",
              "         'pluralName': 'Italian Restaurants',\n",
              "         'primary': True,\n",
              "         'shortName': 'Italian'}],\n",
              "       'id': '599fd817a4236278d39bf8b5',\n",
              "       'location': {'address': 'Next To Bajaj Electronics',\n",
              "        'cc': 'IN',\n",
              "        'city': 'Rajendra Nagar',\n",
              "        'country': 'India',\n",
              "        'distance': 304,\n",
              "        'formattedAddress': ['Next To Bajaj Electronics',\n",
              "         'Rajendra Nagar 500032',\n",
              "         'TG',\n",
              "         'India'],\n",
              "        'labeledLatLngs': [{'label': 'display',\n",
              "          'lat': 17.443122,\n",
              "          'lng': 78.354781}],\n",
              "        'lat': 17.443122,\n",
              "        'lng': 78.354781,\n",
              "        'postalCode': '500032',\n",
              "        'state': 'TG'},\n",
              "       'name': 'Cibo House',\n",
              "       'photos': {'count': 0, 'groups': []}}},\n",
              "     {'reasons': {'count': 0,\n",
              "       'items': [{'reasonName': 'globalInteractionReason',\n",
              "         'summary': 'This spot is popular',\n",
              "         'type': 'general'}]},\n",
              "      'referralId': 'e-0-59a2a27446e1b6498887129c-8',\n",
              "      'venue': {'categories': [{'icon': {'prefix': 'https://ss3.4sqi.net/img/categories_v2/shops/food_grocery_',\n",
              "          'suffix': '.png'},\n",
              "         'id': '4bf58dd8d48988d118951735',\n",
              "         'name': 'Grocery Store',\n",
              "         'pluralName': 'Grocery Stores',\n",
              "         'primary': True,\n",
              "         'shortName': 'Grocery Store'}],\n",
              "       'id': '59a2a27446e1b6498887129c',\n",
              "       'location': {'address': 'Srinivana Nilayam',\n",
              "        'cc': 'IN',\n",
              "        'city': 'Hyderabad',\n",
              "        'country': 'India',\n",
              "        'crossStreet': 'Gachibowli Rd',\n",
              "        'distance': 341,\n",
              "        'formattedAddress': ['Srinivana Nilayam (Gachibowli Rd)',\n",
              "         'Hyderabad 500032',\n",
              "         'Telangana',\n",
              "         'India'],\n",
              "        'labeledLatLngs': [{'label': 'display',\n",
              "          'lat': 17.442863,\n",
              "          'lng': 78.35508}],\n",
              "        'lat': 17.442863,\n",
              "        'lng': 78.35508,\n",
              "        'postalCode': '500032',\n",
              "        'state': 'Telangana'},\n",
              "       'name': 'Ratnadeep Super Market',\n",
              "       'photos': {'count': 0, 'groups': []}}},\n",
              "     {'reasons': {'count': 0,\n",
              "       'items': [{'reasonName': 'globalInteractionReason',\n",
              "         'summary': 'This spot is popular',\n",
              "         'type': 'general'}]},\n",
              "      'referralId': 'e-0-594e1d88a4b51b7d053a1922-9',\n",
              "      'venue': {'categories': [{'icon': {'prefix': 'https://ss3.4sqi.net/img/categories_v2/shops/departmentstore_',\n",
              "          'suffix': '.png'},\n",
              "         'id': '4bf58dd8d48988d1f6941735',\n",
              "         'name': 'Department Store',\n",
              "         'pluralName': 'Department Stores',\n",
              "         'primary': True,\n",
              "         'shortName': 'Department Store'}],\n",
              "       'id': '594e1d88a4b51b7d053a1922',\n",
              "       'location': {'address': '19, Old Mumbai Hwy, Vinayak Nagar',\n",
              "        'cc': 'IN',\n",
              "        'city': 'Hyderabad',\n",
              "        'country': 'India',\n",
              "        'crossStreet': 'Indira Nagar, Gachibowli,',\n",
              "        'distance': 383,\n",
              "        'formattedAddress': ['19, Old Mumbai Hwy, Vinayak Nagar (Indira Nagar, Gachibowli,)',\n",
              "         'Hyderabad 500032',\n",
              "         'Telangana',\n",
              "         'India'],\n",
              "        'labeledLatLngs': [{'label': 'display',\n",
              "          'lat': 17.44435130849401,\n",
              "          'lng': 78.35549027814241}],\n",
              "        'lat': 17.44435130849401,\n",
              "        'lng': 78.35549027814241,\n",
              "        'postalCode': '500032',\n",
              "        'state': 'Telangana'},\n",
              "       'name': 'Star Hypermarket',\n",
              "       'photos': {'count': 0, 'groups': []}}},\n",
              "     {'reasons': {'count': 0,\n",
              "       'items': [{'reasonName': 'globalInteractionReason',\n",
              "         'summary': 'This spot is popular',\n",
              "         'type': 'general'}]},\n",
              "      'referralId': 'e-0-4f969b9ae4b01cb74e452f51-10',\n",
              "      'venue': {'categories': [{'icon': {'prefix': 'https://ss3.4sqi.net/img/categories_v2/food/cafe_',\n",
              "          'suffix': '.png'},\n",
              "         'id': '4bf58dd8d48988d16d941735',\n",
              "         'name': 'Café',\n",
              "         'pluralName': 'Cafés',\n",
              "         'primary': True,\n",
              "         'shortName': 'Café'}],\n",
              "       'id': '4f969b9ae4b01cb74e452f51',\n",
              "       'location': {'cc': 'IN',\n",
              "        'country': 'India',\n",
              "        'distance': 396,\n",
              "        'formattedAddress': ['India'],\n",
              "        'labeledLatLngs': [{'label': 'display',\n",
              "          'lat': 17.447006158494652,\n",
              "          'lng': 78.35311870202418}],\n",
              "        'lat': 17.447006158494652,\n",
              "        'lng': 78.35311870202418},\n",
              "       'name': 'Tea point DLF - Gate 1',\n",
              "       'photos': {'count': 0, 'groups': []}}},\n",
              "     {'reasons': {'count': 0,\n",
              "       'items': [{'reasonName': 'globalInteractionReason',\n",
              "         'summary': 'This spot is popular',\n",
              "         'type': 'general'}]},\n",
              "      'referralId': 'e-0-51fbd079498e8d7efbc795de-11',\n",
              "      'venue': {'categories': [{'icon': {'prefix': 'https://ss3.4sqi.net/img/categories_v2/food/indian_',\n",
              "          'suffix': '.png'},\n",
              "         'id': '4bf58dd8d48988d10f941735',\n",
              "         'name': 'Indian Restaurant',\n",
              "         'pluralName': 'Indian Restaurants',\n",
              "         'primary': True,\n",
              "         'shortName': 'Indian'}],\n",
              "       'id': '51fbd079498e8d7efbc795de',\n",
              "       'location': {'address': 'Above Cafe Coffee Day, Opp DLF',\n",
              "        'cc': 'IN',\n",
              "        'city': 'Hyderabad',\n",
              "        'country': 'India',\n",
              "        'crossStreet': 'Gachibowli',\n",
              "        'distance': 397,\n",
              "        'formattedAddress': ['Above Cafe Coffee Day, Opp DLF (Gachibowli)',\n",
              "         'Hyderabad 500032',\n",
              "         'Telangana',\n",
              "         'India'],\n",
              "        'labeledLatLngs': [{'label': 'display',\n",
              "          'lat': 17.442895265335594,\n",
              "          'lng': 78.35562470218957}],\n",
              "        'lat': 17.442895265335594,\n",
              "        'lng': 78.35562470218957,\n",
              "        'postalCode': '500032',\n",
              "        'state': 'Telangana'},\n",
              "       'name': 'Olive Garden',\n",
              "       'photos': {'count': 0, 'groups': []}}}],\n",
              "    'name': 'recommended',\n",
              "    'type': 'Recommended Places'}],\n",
              "  'headerFullLocation': 'Gachibowli, Hyderabad',\n",
              "  'headerLocation': 'Gachibowli',\n",
              "  'headerLocationGranularity': 'neighborhood',\n",
              "  'suggestedBounds': {'ne': {'lat': 17.448122204500006,\n",
              "    'lng': 78.35667191761476},\n",
              "   'sw': {'lat': 17.439122195499994, 'lng': 78.34725568238522}},\n",
              "  'suggestedFilters': {'filters': [{'key': 'openNow', 'name': 'Open now'}],\n",
              "   'header': 'Tap to show:'},\n",
              "  'totalResults': 12}}"
            ]
          },
          "metadata": {
            "tags": []
          },
          "execution_count": 26
        }
      ]
    },
    {
      "cell_type": "code",
      "metadata": {
        "colab": {
          "base_uri": "https://localhost:8080/",
          "height": 397
        },
        "id": "jV72vZ76YQIr",
        "outputId": "69fde491-d070-45de-c086-6b3ee15fb5a5"
      },
      "source": [
        "from pandas.io.json import json_normalize\r\n",
        "venues = results['response']['groups'][0]['items']\r\n",
        "    \r\n",
        "INnearby_venues = json_normalize(venues) # flatten JSON\r\n",
        "\r\n",
        "# filter columns\r\n",
        "filtered_columns = ['venue.name', 'venue.categories', 'venue.location.lat', 'venue.location.lng']\r\n",
        "INnearby_venues =INnearby_venues.loc[:, filtered_columns]\r\n",
        "\r\n",
        "# filter the category for each row\r\n",
        "INnearby_venues['venue.categories'] = INnearby_venues.apply(get_category_type, axis=1)\r\n",
        "\r\n",
        "# clean columns\r\n",
        "INnearby_venues.columns = [col.split(\".\")[-1] for col in INnearby_venues.columns]\r\n",
        "\r\n",
        "INnearby_venues.head(10)"
      ],
      "execution_count": 29,
      "outputs": [
        {
          "output_type": "stream",
          "text": [
            "/usr/local/lib/python3.6/dist-packages/ipykernel_launcher.py:4: FutureWarning: pandas.io.json.json_normalize is deprecated, use pandas.json_normalize instead\n",
            "  after removing the cwd from sys.path.\n"
          ],
          "name": "stderr"
        },
        {
          "output_type": "execute_result",
          "data": {
            "text/html": [
              "<div>\n",
              "<style scoped>\n",
              "    .dataframe tbody tr th:only-of-type {\n",
              "        vertical-align: middle;\n",
              "    }\n",
              "\n",
              "    .dataframe tbody tr th {\n",
              "        vertical-align: top;\n",
              "    }\n",
              "\n",
              "    .dataframe thead th {\n",
              "        text-align: right;\n",
              "    }\n",
              "</style>\n",
              "<table border=\"1\" class=\"dataframe\">\n",
              "  <thead>\n",
              "    <tr style=\"text-align: right;\">\n",
              "      <th></th>\n",
              "      <th>name</th>\n",
              "      <th>categories</th>\n",
              "      <th>lat</th>\n",
              "      <th>lng</th>\n",
              "    </tr>\n",
              "  </thead>\n",
              "  <tbody>\n",
              "    <tr>\n",
              "      <th>0</th>\n",
              "      <td>creamstone</td>\n",
              "      <td>Ice Cream Shop</td>\n",
              "      <td>17.442998</td>\n",
              "      <td>78.355475</td>\n",
              "    </tr>\n",
              "    <tr>\n",
              "      <th>1</th>\n",
              "      <td>Karachi Bakery</td>\n",
              "      <td>Bakery</td>\n",
              "      <td>17.442930</td>\n",
              "      <td>78.355336</td>\n",
              "    </tr>\n",
              "    <tr>\n",
              "      <th>2</th>\n",
              "      <td>Chettinaduvilas</td>\n",
              "      <td>Food Truck</td>\n",
              "      <td>17.442858</td>\n",
              "      <td>78.356053</td>\n",
              "    </tr>\n",
              "    <tr>\n",
              "      <th>3</th>\n",
              "      <td>Gachibowli Stadium</td>\n",
              "      <td>Stadium</td>\n",
              "      <td>17.445982</td>\n",
              "      <td>78.348245</td>\n",
              "    </tr>\n",
              "    <tr>\n",
              "      <th>4</th>\n",
              "      <td>Cafe Coffee Day</td>\n",
              "      <td>Café</td>\n",
              "      <td>17.442771</td>\n",
              "      <td>78.355737</td>\n",
              "    </tr>\n",
              "    <tr>\n",
              "      <th>5</th>\n",
              "      <td>Mustang terrace</td>\n",
              "      <td>Italian Restaurant</td>\n",
              "      <td>17.442840</td>\n",
              "      <td>78.355320</td>\n",
              "    </tr>\n",
              "    <tr>\n",
              "      <th>6</th>\n",
              "      <td>Adithya inn</td>\n",
              "      <td>Hotel</td>\n",
              "      <td>17.443037</td>\n",
              "      <td>78.354475</td>\n",
              "    </tr>\n",
              "    <tr>\n",
              "      <th>7</th>\n",
              "      <td>Cibo House</td>\n",
              "      <td>Italian Restaurant</td>\n",
              "      <td>17.443122</td>\n",
              "      <td>78.354781</td>\n",
              "    </tr>\n",
              "    <tr>\n",
              "      <th>8</th>\n",
              "      <td>Ratnadeep Super Market</td>\n",
              "      <td>Grocery Store</td>\n",
              "      <td>17.442863</td>\n",
              "      <td>78.355080</td>\n",
              "    </tr>\n",
              "    <tr>\n",
              "      <th>9</th>\n",
              "      <td>Star Hypermarket</td>\n",
              "      <td>Department Store</td>\n",
              "      <td>17.444351</td>\n",
              "      <td>78.355490</td>\n",
              "    </tr>\n",
              "  </tbody>\n",
              "</table>\n",
              "</div>"
            ],
            "text/plain": [
              "                     name          categories        lat        lng\n",
              "0              creamstone      Ice Cream Shop  17.442998  78.355475\n",
              "1          Karachi Bakery              Bakery  17.442930  78.355336\n",
              "2         Chettinaduvilas          Food Truck  17.442858  78.356053\n",
              "3      Gachibowli Stadium             Stadium  17.445982  78.348245\n",
              "4         Cafe Coffee Day                Café  17.442771  78.355737\n",
              "5         Mustang terrace  Italian Restaurant  17.442840  78.355320\n",
              "6             Adithya inn               Hotel  17.443037  78.354475\n",
              "7              Cibo House  Italian Restaurant  17.443122  78.354781\n",
              "8  Ratnadeep Super Market       Grocery Store  17.442863  78.355080\n",
              "9        Star Hypermarket    Department Store  17.444351  78.355490"
            ]
          },
          "metadata": {
            "tags": []
          },
          "execution_count": 29
        }
      ]
    },
    {
      "cell_type": "code",
      "metadata": {
        "colab": {
          "base_uri": "https://localhost:8080/",
          "height": 404
        },
        "id": "gOd8hO9BYTD3",
        "outputId": "fbe4ba27-368d-4001-d83c-d33f95b4da7a"
      },
      "source": [
        "# create map of Singapore place  using latitude and longitude values\r\n",
        "map_in = folium.Map(location=[lat, long], zoom_start=20)\r\n",
        "\r\n",
        "# add markers to map\r\n",
        "for lat, lng, label in zip(INnearby_venues['lat'], INnearby_venues['lng'], INnearby_venues['name']):\r\n",
        "    label = folium.Popup(label, parse_html=True)\r\n",
        "    folium.RegularPolygonMarker(\r\n",
        "        [lat, lng],\r\n",
        "        number_of_sides=4,\r\n",
        "        radius=10,\r\n",
        "        popup=label,\r\n",
        "        color='blue',\r\n",
        "        fill_color='#0f0f0f',\r\n",
        "        fill_opacity=0.7,\r\n",
        "    ).add_to(map_in)  \r\n",
        "    \r\n",
        "map_in"
      ],
      "execution_count": 31,
      "outputs": [
        {
          "output_type": "execute_result",
          "data": {
            "text/html": [
              "<div style=\"width:100%;\"><div style=\"position:relative;width:100%;height:0;padding-bottom:60%;\"><span style=\"color:#565656\">Make this Notebook Trusted to load map: File -> Trust Notebook</span><iframe src=\"about:blank\" style=\"position:absolute;width:100%;height:100%;left:0;top:0;border:none !important;\" data-html=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 onload=\"this.contentDocument.open();this.contentDocument.write(atob(this.getAttribute('data-html')));this.contentDocument.close();\" allowfullscreen webkitallowfullscreen mozallowfullscreen></iframe></div></div>"
            ],
            "text/plain": [
              "<folium.folium.Map at 0x7f610dad0588>"
            ]
          },
          "metadata": {
            "tags": []
          },
          "execution_count": 31
        }
      ]
    },
    {
      "cell_type": "code",
      "metadata": {
        "id": "a73KjsWgY0_1"
      },
      "source": [
        ""
      ],
      "execution_count": null,
      "outputs": []
    }
  ]
}