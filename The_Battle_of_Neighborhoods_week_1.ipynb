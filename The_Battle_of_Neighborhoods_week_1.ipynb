{
  "nbformat": 4,
  "nbformat_minor": 0,
  "metadata": {
    "colab": {
      "name": "The Battle of Neighborhoods-week 1",
      "provenance": [],
      "authorship_tag": "ABX9TyNWtHjUyr5dFRCakK0c485H",
      "include_colab_link": true
    },
    "kernelspec": {
      "name": "python3",
      "display_name": "Python 3"
    }
  },
  "cells": [
    {
      "cell_type": "markdown",
      "metadata": {
        "id": "view-in-github",
        "colab_type": "text"
      },
      "source": [
        "<a href=\"https://colab.research.google.com/github/rajithasuja/Capstone_Project_2/blob/main/The_Battle_of_Neighborhoods_week_1.ipynb\" target=\"_parent\"><img src=\"https://colab.research.google.com/assets/colab-badge.svg\" alt=\"Open In Colab\"/></a>"
      ]
    },
    {
      "cell_type": "markdown",
      "metadata": {
        "id": "Hw2s9qAdts_N"
      },
      "source": [
        "# Capstone Project - The Battle of Neighborhood (Week 1)"
      ]
    },
    {
      "cell_type": "code",
      "metadata": {
        "id": "qfPYx9cqVkLc"
      },
      "source": [
        "# importing all required libraries\r\n",
        "\r\n",
        "import numpy as np\r\n",
        "import pandas as pd\r\n",
        "import time\r\n",
        "import requests\r\n",
        "import folium\r\n",
        "import json\r\n",
        "from geopy.geocoders import Nominatim"
      ],
      "execution_count": 1,
      "outputs": []
    },
    {
      "cell_type": "markdown",
      "metadata": {
        "id": "V-NqWz0RyV-R"
      },
      "source": [
        "## **1. Introduction Section**"
      ]
    },
    {
      "cell_type": "markdown",
      "metadata": {
        "id": "orPzsIXEyuoS"
      },
      "source": [
        "### **Description of the Problem and Background**\r\n",
        "\r\n",
        "#### **Scenario:**\r\n",
        "I am a Data Scientist residing in India. I currently live within walkable distance to grocery store, reputed educational institutes, malls and entertainment zones. I have received an offer letter for MS in University of Washington, USA which offers me a good scholarship. The key question is: How can I find a similar location to mine at Wahington. Certainly, I could use available realestate apps and google but the idea is to make a comparision and evaluation of the rental options at Seattle, Washington.The apartment at Seattle must meet the following demands:\r\n",
        "\r\n",
        "\r\n",
        "\r\n",
        "*   apartment must be 1 or 2 BHK\r\n",
        "*   Desired location must be close to my university\r\n",
        "* price shouldn't exceed $6,000\r\n",
        "* desirable to have venues such as grocery store, coffee shops, Asian restaurants and food shops.\r\n",
        "\r\n",
        "##### **Business Problem:**\r\n",
        "The challenge is to find a suitable house that meets the above mentioned demands.\r\n",
        "\r\n",
        "##### **Interested Audience:**\r\n",
        "I believe this is a relevant challenge with valid questions. This is very helpful, especially for students who apply abroad or masters and for better jobs.\r\n"
      ]
    },
    {
      "cell_type": "code",
      "metadata": {
        "id": "wTtELpL8ytbx"
      },
      "source": [
        ""
      ],
      "execution_count": null,
      "outputs": []
    },
    {
      "cell_type": "code",
      "metadata": {
        "id": "yvG5RUmvxr5R"
      },
      "source": [
        ""
      ],
      "execution_count": null,
      "outputs": []
    }
  ]
}